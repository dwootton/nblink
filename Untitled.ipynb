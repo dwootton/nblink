{
 "cells": [
  {
   "cell_type": "code",
   "execution_count": null,
   "id": "8b06c88c-89f7-407c-b8ed-5a5026f97d11",
   "metadata": {},
   "outputs": [],
   "source": []
  }
 ],
 "metadata": {
  "kernelspec": {
   "display_name": "Python 3 (ipykernel)",
   "language": "python",
   "name": "python3"
  },
  "language_info": {
   "name": ""
  }
 },
 "nbformat": 4,
 "nbformat_minor": 5
}
